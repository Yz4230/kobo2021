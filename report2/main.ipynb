{
 "metadata": {
  "language_info": {
   "codemirror_mode": {
    "name": "ipython",
    "version": 3
   },
   "file_extension": ".py",
   "mimetype": "text/x-python",
   "name": "python",
   "nbconvert_exporter": "python",
   "pygments_lexer": "ipython3",
   "version": "3.9.5"
  },
  "orig_nbformat": 2,
  "kernelspec": {
   "name": "python395jvsc74a57bd02c6619ac03977a745e1f2085a39cb523699645fd1888960373b1439c09fb9c34",
   "display_name": "Python 3.9.5 64-bit ('python-testenv-oAsmmbfY': pipenv)"
  },
  "metadata": {
   "interpreter": {
    "hash": "2c6619ac03977a745e1f2085a39cb523699645fd1888960373b1439c09fb9c34"
   }
  }
 },
 "nbformat": 4,
 "nbformat_minor": 2,
 "cells": [
  {
   "cell_type": "code",
   "execution_count": 1,
   "metadata": {},
   "outputs": [],
   "source": [
    "import numpy as np"
   ]
  },
  {
   "cell_type": "code",
   "execution_count": 2,
   "metadata": {},
   "outputs": [],
   "source": [
    "def softmax(z: np.ndarray) -> np.ndarray:\n",
    "    return z / np.exp(z).sum()"
   ]
  },
  {
   "cell_type": "code",
   "execution_count": 3,
   "metadata": {},
   "outputs": [],
   "source": [
    "def sigmoid(z: np.ndarray) -> np.ndarray:\n",
    "    return 1 / (1 + np.exp(-z))"
   ]
  },
  {
   "cell_type": "code",
   "execution_count": 4,
   "metadata": {},
   "outputs": [],
   "source": [
    "def create_network() -> list[dict[str, np.ndarray]]:\n",
    "    network = []\n",
    "    network.append({\n",
    "        'weight': np.array([[0.1, 0.3, 0.5],\n",
    "                            [0.2, 0.4, 0.6]]),\n",
    "        'bias': np.array([[0.1, 0.2, 0.3]])\n",
    "    })\n",
    "    network.append({\n",
    "        'weight': np.array([[0.1, 0.4], \n",
    "                            [0.2, 0.5], \n",
    "                            [0.3, 0.6]]),\n",
    "        'bias': np.array([[0.1, 0.2]])\n",
    "    })\n",
    "    network.append({\n",
    "        'weight': np.array([[0.1, 0.3], \n",
    "                            [0.2, 0.4]]),\n",
    "        'bias': np.array([[0.1, 0.2]])\n",
    "    })\n",
    "    return network"
   ]
  },
  {
   "cell_type": "code",
   "execution_count": 5,
   "metadata": {},
   "outputs": [],
   "source": [
    "def forward(network: list[dict[str, np.ndarray]], x: np.ndarray) -> np.ndarray:\n",
    "    for index, layer in enumerate(network):  # 拡張性を持たせるために、少しカスタマイズしてみました。\n",
    "        weight = layer['weight']\n",
    "        bias = layer['bias']\n",
    "        x = np.dot(x, weight) + bias  # 次の層で使うので、x自体を更新。\n",
    "        if index < len(network) - 1:  # 最後の層の活性化関数は無し。\n",
    "            x = sigmoid(x)\n",
    "    return x  # y"
   ]
  },
  {
   "cell_type": "code",
   "execution_count": 6,
   "metadata": {},
   "outputs": [
    {
     "output_type": "stream",
     "name": "stdout",
     "text": [
      "[[0.31682708 0.69627909]]\n"
     ]
    }
   ],
   "source": [
    "network = create_network()\n",
    "x = np.array([1.0, 0.5])\n",
    "y = forward(network, x)\n",
    "print(y)"
   ]
  },
  {
   "cell_type": "code",
   "execution_count": 7,
   "metadata": {
    "tags": []
   },
   "outputs": [],
   "source": [
    "batch_size = 16\n",
    "x = np.random.rand(1000, 2)\n",
    "for i in range(0, len(x), batch_size):\n",
    "    x_batch = x[i: i + batch_size]\n",
    "    y_batch = forward(network, x_batch)"
   ]
  },
  {
   "source": [
    "## 参考文献\n",
    "[深層学習による画像認識・生成](https://www.inf.uec.ac.jp/kobo2021/?深層学習による画像認識・生成)\n",
    "\n",
    "[シグモイド関数 - Wikipedia](https://ja.wikipedia.org/wiki/シグモイド関数)\n",
    "\n",
    "[Softmax function - Wikipedia](https://en.wikipedia.org/wiki/Softmax_function)\n",
    "\n",
    "## 感想\n",
    "自分で工夫もできたので楽しかったです。\n",
    "バッチの理解も深まりました。"
   ],
   "cell_type": "markdown",
   "metadata": {}
  }
 ]
}