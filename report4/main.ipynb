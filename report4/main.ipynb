{
 "metadata": {
  "language_info": {
   "codemirror_mode": {
    "name": "ipython",
    "version": 3
   },
   "file_extension": ".py",
   "mimetype": "text/x-python",
   "name": "python",
   "nbconvert_exporter": "python",
   "pygments_lexer": "ipython3",
   "version": "3.9.5"
  },
  "orig_nbformat": 4,
  "kernelspec": {
   "name": "python3",
   "display_name": "Python 3.9.5 64-bit ('python-testenv-oAsmmbfY': pipenv)"
  },
  "interpreter": {
   "hash": "2c6619ac03977a745e1f2085a39cb523699645fd1888960373b1439c09fb9c34"
  }
 },
 "nbformat": 4,
 "nbformat_minor": 2,
 "cells": [
  {
   "cell_type": "code",
   "execution_count": 9,
   "metadata": {},
   "outputs": [],
   "source": [
    "import numpy as np\n",
    "from common.gradient import numerical_gradient\n",
    "from common.functions import sigmoid, softmax, sigmoid_grad\n",
    "from dataset.mnist import load_mnist\n",
    "\n",
    "def cross_entropy_error(y: np.ndarray, t: np.ndarray) -> np.ndarray:\n",
    "   if y.ndim == 1:\n",
    "       t = t.reshape(1, t.size)\n",
    "       y = y.reshape(1, y.size)\n",
    "   if t.size == y.size:\n",
    "       t = t.argmax(axis=1)\n",
    "   batch_size = y.shape[0]\n",
    "   return -np.sum(np.log(y[np.arange(batch_size), t])) / batch_size"
   ]
  },
  {
   "cell_type": "code",
   "execution_count": 2,
   "metadata": {},
   "outputs": [],
   "source": [
    "class SoftmaxWithLoss:\n",
    "    def __init__(self):\n",
    "        self.loss = None\n",
    "        self.y = None\n",
    "        self.t = None\n",
    "\n",
    "    def forward(self, x: np.ndarray, t: np.ndarray) -> np.ndarray:\n",
    "        self.t = t\n",
    "        self.y = softmax(x)\n",
    "        self.loss = cross_entropy_error(self.y, self.t)\n",
    "        return self.loss\n",
    "\n",
    "    def backward(self, dout=1) -> np.ndarray:\n",
    "        batch_size = self.t.shape[0]\n",
    "        dx = (self.y - self.t) / batch_size\n",
    "\n",
    "        return dx"
   ]
  },
  {
   "cell_type": "code",
   "execution_count": 10,
   "metadata": {},
   "outputs": [],
   "source": [
    "class TwoLayerNet:\n",
    "\n",
    "    def __init__(self, input_size, hidden_size, output_size, weight_init_std=0.01):\n",
    "        self.params = {}\n",
    "        self.params['W1'] = weight_init_std * \\\n",
    "            np.random.randn(input_size, hidden_size)\n",
    "        self.params['b1'] = np.zeros(hidden_size)\n",
    "        self.params['W2'] = weight_init_std * \\\n",
    "            np.random.randn(hidden_size, output_size)\n",
    "        self.params['b2'] = np.zeros(output_size)\n",
    "\n",
    "    def predict(self, x):\n",
    "        W1, W2 = self.params['W1'], self.params['W2']\n",
    "        b1, b2 = self.params['b1'], self.params['b2']\n",
    "\n",
    "        a1 = np.dot(x, W1) + b1\n",
    "        z1 = sigmoid(a1)\n",
    "        a2 = np.dot(z1, W2) + b2\n",
    "        y = softmax(a2)\n",
    "\n",
    "        return y\n",
    "\n",
    "    def loss(self, x, t):\n",
    "        y = self.predict(x)\n",
    "\n",
    "        # SoftmaxWithLossの実装と同じ。\n",
    "        return cross_entropy_error(y, t)\n",
    "\n",
    "    def accuracy(self, x, t):\n",
    "        y = self.predict(x)\n",
    "        y = np.argmax(y, axis=1)\n",
    "        t = np.argmax(t, axis=1)\n",
    "\n",
    "        accuracy = np.sum(y == t) / float(x.shape[0])\n",
    "        return accuracy\n",
    "\n",
    "    def numerical_gradient(self, x, t):\n",
    "        def loss_W(W): return self.loss(x, t)\n",
    "\n",
    "        grads = {}\n",
    "        grads['W1'] = numerical_gradient(loss_W, self.params['W1'])\n",
    "        grads['b1'] = numerical_gradient(loss_W, self.params['b1'])\n",
    "        grads['W2'] = numerical_gradient(loss_W, self.params['W2'])\n",
    "        grads['b2'] = numerical_gradient(loss_W, self.params['b2'])\n",
    "\n",
    "        return grads\n",
    "\n",
    "    def gradient(self, x, t):\n",
    "        W1, W2 = self.params['W1'], self.params['W2']\n",
    "        b1, b2 = self.params['b1'], self.params['b2']\n",
    "        grads = {}\n",
    "\n",
    "        batch_num = x.shape[0]\n",
    "\n",
    "        a1 = np.dot(x, W1) + b1\n",
    "        z1 = sigmoid(a1)\n",
    "        a2 = np.dot(z1, W2) + b2\n",
    "        y = softmax(a2)\n",
    "\n",
    "        # SoftmaxWithLossの勾配の実装と同じ。\n",
    "        dy = (y - t) / batch_num\n",
    "        grads['W2'] = np.dot(z1.T, dy)\n",
    "        grads['b2'] = np.sum(dy, axis=0)\n",
    "\n",
    "        da1 = np.dot(dy, W2.T)\n",
    "        dz1 = sigmoid_grad(a1) * da1\n",
    "        grads['W1'] = np.dot(x.T, dz1)\n",
    "        grads['b1'] = np.sum(dz1, axis=0)\n",
    "\n",
    "        return grads"
   ]
  },
  {
   "cell_type": "code",
   "execution_count": 11,
   "metadata": {},
   "outputs": [
    {
     "output_type": "stream",
     "name": "stdout",
     "text": [
      "W1:4.213766460773187e-13\nb1:1.43184017485469e-12\nW2:1.4832575861989383e-11\nb2:1.2057021075984055e-10\n"
     ]
    }
   ],
   "source": [
    "(x_train, t_train), (x_test, t_test) = load_mnist(normalize=True, one_hot_label=True)\n",
    "network = TwoLayerNet(input_size=784, hidden_size=50, output_size=10)\n",
    "x_batch = x_train[:3]\n",
    "t_batch = t_train[:3]\n",
    "grad_numerical = network.numerical_gradient(x_batch, t_batch)\n",
    "grad_backprop = network.gradient(x_batch, t_batch)\n",
    "for key in grad_numerical.keys():\n",
    "   diff = np.average( np.abs(grad_backprop[key] - grad_numerical[key]) )\n",
    "   print(key + \":\" + str(diff))"
   ]
  },
  {
   "cell_type": "code",
   "execution_count": 13,
   "metadata": {},
   "outputs": [
    {
     "output_type": "stream",
     "name": "stdout",
     "text": [
      "0.09871666666666666 0.098\n",
      "0.75735 0.7612\n",
      "0.8785833333333334 0.8823\n",
      "0.8987166666666667 0.9015\n",
      "0.9071 0.9118\n",
      "0.9144166666666667 0.9184\n",
      "0.9185666666666666 0.9193\n",
      "0.9231 0.924\n",
      "0.9266833333333333 0.929\n",
      "0.92965 0.9315\n",
      "0.9338333333333333 0.9354\n",
      "0.9364 0.9371\n",
      "0.9390833333333334 0.9387\n",
      "0.9408 0.9412\n",
      "0.9431 0.9423\n",
      "0.9452 0.9428\n",
      "0.9464666666666667 0.9442\n"
     ]
    }
   ],
   "source": [
    "(x_train, t_train), (x_test, t_test) = load_mnist(normalize=True, one_hot_label=True)\n",
    "network = TwoLayerNet(input_size=784, hidden_size=50, output_size=10)\n",
    "iters_num = 10000\n",
    "train_size = x_train.shape[0]\n",
    "batch_size = 100\n",
    "learning_rate = 0.1\n",
    "train_loss_list = []\n",
    "train_acc_list = []\n",
    "test_acc_list = []\n",
    "iter_per_epoch = max(train_size / batch_size, 1)\n",
    "for i in range(iters_num):\n",
    "   batch_mask = np.random.choice(train_size, batch_size)\n",
    "   x_batch = x_train[batch_mask]\n",
    "   t_batch = t_train[batch_mask]\n",
    "   grad = network.gradient(x_batch, t_batch)\n",
    "   for key in ('W1', 'b1', 'W2', 'b2'):\n",
    "       network.params[key] -= learning_rate * grad[key]\n",
    "   loss = network.loss(x_batch, t_batch)\n",
    "   train_loss_list.append(loss)\n",
    "   if i % iter_per_epoch == 0:\n",
    "       train_acc = network.accuracy(x_train, t_train)\n",
    "       test_acc = network.accuracy(x_test, t_test)\n",
    "       train_acc_list.append(train_acc)\n",
    "       test_acc_list.append(test_acc)\n",
    "       print(train_acc, test_acc)"
   ]
  },
  {
   "source": [
    "# 感想\n",
    "`SoftmaxWithLoss`の実装はできたが、既存の`TwoLayerNet`に組み込む方法がわからず、結局`SoftmaxWithLoss`をバラバラにした形での実装になってしまった。もっと研究したい。"
   ],
   "cell_type": "markdown",
   "metadata": {}
  }
 ]
}