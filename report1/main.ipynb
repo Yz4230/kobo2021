{
 "metadata": {
  "language_info": {
   "codemirror_mode": {
    "name": "ipython",
    "version": 3
   },
   "file_extension": ".py",
   "mimetype": "text/x-python",
   "name": "python",
   "nbconvert_exporter": "python",
   "pygments_lexer": "ipython3",
   "version": "3.9.5"
  },
  "orig_nbformat": 2,
  "kernelspec": {
   "name": "python395jvsc74a57bd0ff34037933b03b513bc449fcf22f8d8c6e3d288916836860fd8143f8f25d5f27",
   "display_name": "Python 3.9.5 64-bit ('kobo2021-ReCtxfrK': pipenv)"
  },
  "metadata": {
   "interpreter": {
    "hash": "ff34037933b03b513bc449fcf22f8d8c6e3d288916836860fd8143f8f25d5f27"
   }
  }
 },
 "nbformat": 4,
 "nbformat_minor": 2,
 "cells": [
  {
   "cell_type": "code",
   "execution_count": 1,
   "metadata": {},
   "outputs": [],
   "source": [
    "from typing import Callable\n",
    "import numpy as np"
   ]
  },
  {
   "cell_type": "code",
   "execution_count": 2,
   "metadata": {},
   "outputs": [],
   "source": [
    "def AND(x1: int, x2: int):\n",
    "    x = np.array([x1, x2])\n",
    "    w = np.array([[0.5], [0.5]])\n",
    "    b = np.array([0])\n",
    "    y = x.dot(w) + b\n",
    "    return y.astype(np.int32)[0]\n",
    "\n",
    "\n",
    "def NAND(x1: int, x2: int):\n",
    "    # NAND は not AND なので否定\n",
    "    return int(not AND(x1, x2))\n",
    "\n",
    "\n",
    "def OR(x1: int, x2: int):\n",
    "    x = np.array([x1, x2])\n",
    "    w = np.array([[1], [1]])\n",
    "    b = np.array([0])\n",
    "    y = x.dot(w) + b\n",
    "    # x1 == x2 == 1 のとき2になるので、1にして返す\n",
    "    return int(y.astype(np.int32)[0] > 0)\n",
    "\n",
    "\n",
    "def XOR(x1: int, x2: int):\n",
    "    # 演算の表より、明らかに正しい。\n",
    "    return AND(NAND(x1, x2), OR(x1, x2))"
   ]
  },
  {
   "cell_type": "code",
   "execution_count": 3,
   "metadata": {},
   "outputs": [
    {
     "output_type": "stream",
     "name": "stdout",
     "text": [
      "Passed AND(0, 0) -> 0\nPassed AND(1, 0) -> 0\nPassed AND(0, 1) -> 0\nPassed AND(1, 1) -> 1\nPassed NAND(0, 0) -> 1\nPassed NAND(1, 0) -> 1\nPassed NAND(0, 1) -> 1\nPassed NAND(1, 1) -> 0\nPassed OR(0, 0) -> 0\nPassed OR(1, 0) -> 1\nPassed OR(0, 1) -> 1\nPassed OR(1, 1) -> 1\nPassed XOR(0, 0) -> 0\nPassed XOR(1, 0) -> 1\nPassed XOR(0, 1) -> 1\nPassed XOR(1, 1) -> 0\n"
     ]
    }
   ],
   "source": [
    "functions = [AND, NAND, OR, XOR]\n",
    "inputs = [[0, 0], [1, 0], [0, 1], [1, 1]]\n",
    "answers = {\n",
    "    AND: [0, 0, 0, 1],\n",
    "    NAND: [1, 1, 1, 0],\n",
    "    OR: [0, 1, 1, 1],\n",
    "    XOR: [0, 1, 1, 0]\n",
    "}\n",
    "for func in functions:\n",
    "    for index, answer in enumerate(answers[func]):\n",
    "        args = inputs[index]\n",
    "        result = func(*args)\n",
    "\n",
    "        args_str = ', '.join(list(map(str, args)))\n",
    "        result_str = f'{func.__name__}({args_str}) -> {result}'\n",
    "        if result == answer:\n",
    "            print(f'Passed {result_str}')\n",
    "        else:\n",
    "            print(\n",
    "                f'Failed {result_str}; expected {answer}')"
   ]
  },
  {
   "source": [
    "## 感想\n",
    "パズルみたいで楽しかったです。\n",
    "## 参考文献\n",
    "[深層学習による画像認識・生成](https://www.inf.uec.ac.jp/kobo2021/?深層学習による画像認識・生成)"
   ],
   "cell_type": "markdown",
   "metadata": {}
  }
 ]
}